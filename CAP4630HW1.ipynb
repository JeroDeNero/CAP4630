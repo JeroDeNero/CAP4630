{
  "nbformat": 4,
  "nbformat_minor": 0,
  "metadata": {
    "colab": {
      "name": "CAP4630HW1.ipynb",
      "provenance": [],
      "collapsed_sections": [],
      "authorship_tag": "ABX9TyM7aFTAQu3ZE5TuXXULgoJ9",
      "include_colab_link": true
    },
    "kernelspec": {
      "name": "python3",
      "display_name": "Python 3"
    }
  },
  "cells": [
    {
      "cell_type": "markdown",
      "metadata": {
        "id": "view-in-github",
        "colab_type": "text"
      },
      "source": [
        "<a href=\"https://colab.research.google.com/github/JeroDeNero/CAP4630/blob/master/CAP4630HW1.ipynb\" target=\"_parent\"><img src=\"https://colab.research.google.com/assets/colab-badge.svg\" alt=\"Open In Colab\"/></a>"
      ]
    },
    {
      "cell_type": "markdown",
      "metadata": {
        "id": "G41nuY0_6uN4",
        "colab_type": "text"
      },
      "source": [
        "#Matrix Multiplication\n",
        "Matrix Multiplcation requires two matrices that have compatible dimensions. In order to appropriately multiply two matrices, the dimensions of both must be as follows:\n",
        ">The dimension of the columns in the first matrix must be equal to the dimensions of rows in the second matrix. This will result in a new matrix with new dimensions dependent on both matrices.\n",
        ">$(a, n) \\times (n, b) = (a,b)$\n",
        "\n",
        "$A_{a,n} = \n",
        "\\begin{pmatrix}\n",
        "a_{1,1} & a_{1,2} & \\cdots & a_{1,n} \\\\\n",
        "a_{2,1} & a_{2,2} & \\cdots & a_{2,n} \\\\\n",
        "\\vdots & \\vdots & \\ddots & \\vdots    \\\\\n",
        "a_{a,1} & a_{a,2} & \\cdots & a_{a,n}\n",
        "\\end{pmatrix}$\n",
        "$B_{n,b} = \n",
        "\\begin{pmatrix}\n",
        "b_{1,1} & b_{1,2} & \\cdots & b_{1,b} \\\\\n",
        "b_{2,1} & b_{2,2} & \\cdots & b_{2,b} \\\\\n",
        "\\vdots & \\vdots & \\ddots & \\vdots    \\\\\n",
        "b_{n,1} & b_{n,2} & \\cdots & b_{n,b}\n",
        "\\end{pmatrix}$\n",
        "\n",
        "$A \\times B = C_{a,b} = \n",
        "\\begin{pmatrix}\n",
        "c_{1,1} & c_{1,2} & \\cdots & c_{1,b} \\\\\n",
        "c_{2,1} & c_{2,2} & \\cdots & c_{2,b} \\\\\n",
        "\\vdots & \\vdots & \\ddots & \\vdots    \\\\\n",
        "c_{a,1} & c_{a,2} & \\cdots & c_{a,b}\n",
        "\\end{pmatrix}$\n",
        "\n",
        "In the program, the summation of the first row in matrix $A$ multiplied by the first column in matrix $B$, is used to produce the first value in the new matrix $C$.\n",
        "\n",
        "$C_{1,1}=\\sum (a_{1,1}*b_{1,1}) +(a_{1,2}*b_{2,1})+\\cdots+(a_{1,n}*b_{n,1})$\n",
        "\n",
        "This process is repeated with the second column of matrix $B$ and so on with the following columnts in matrix $B$, as follows.\n",
        "\n",
        "$C_{1,2}=\\sum (a_{1,1}*b_{1,2}) +(a_{1,2}*b_{2,2})+\\cdots+(a_{1,n}*b_{n,2})$\n",
        "\n",
        "$\\vdots$\n",
        "\n",
        "$C_{1,b} = \\sum(a_{1,1}*b_{1,b})+(a_{1,2}*b_{2,b}) + \\cdots+(a_{1,n}*b_{n,b})$\n",
        "\n",
        "This process is then continued with the rest of the rows in matrix $A$.\n",
        "\n",
        "$C_{2,1}=\\sum (a_{2,1}*b_{1,1}) +(a_{2,2}*b_{2,1})+\\cdots+(a_{2,n}*b_{n,1})$\n",
        "\n",
        "$C_{2,2}=\\sum (a_{2,1}*b_{1,2}) +(a_{2,2}*b_{2,2})+\\cdots+(a_{2,n}*b_{n,1})$\n",
        "\n",
        "$\\vdots$\n",
        "\n",
        "$C_{2,b} = \\sum (a_{2,1}*b_{1,b})+(a_{2,1}*b_{2,b})+\\cdots+(a_{2,n}*b_{n,b})$\n",
        "\n",
        "$\\vdots$\n",
        "\n",
        "$C_{a,b} = \\sum(a_{a,1}*b_{1,1})+(a_{a,2}*b_{2,1})+\\cdots+(a_{a,n}*b_{n,b})$"
      ]
    },
    {
      "cell_type": "code",
      "metadata": {
        "id": "dq-Butw63XN8",
        "colab_type": "code",
        "outputId": "c26d02d7-06b9-4304-f4d6-9cc0dfd8a05f",
        "colab": {
          "base_uri": "https://localhost:8080/",
          "height": 50
        }
      },
      "source": [
        "import numpy as np\n",
        "\n",
        "def multiply_matrices(self): #creating the function\n",
        "  try: #trying to multiply all the current matrices\n",
        "    prod = np.array(self)\n",
        "\n",
        "  except ValueError: #if an error is found between the matrices it continues\n",
        "    print()\n",
        "  count = 0\n",
        "  if len(self) < 1: #case for an empty list\n",
        "    print(\"This list is empty.\")\n",
        "    return\n",
        "\n",
        "  try: #list not empty it tries to multiply the matrices if they are compatible\n",
        "    for i in range(len(self)-1):\n",
        "      self[i+1] = self[i]@self[i+1]\n",
        "      prod = self[i+1]\n",
        "      count += 1\n",
        "      \n",
        "    print(prod)\n",
        "    \n",
        "  except ValueError: #if erroer between a matrices is found it indicates why\n",
        "    print(\"Matrix multiplication requires compatible dimensions, such as \" \n",
        "          \"(a,n)x(n,b), where n is equal in both Matrices.\")\n",
        "    print(\"Matrix dimension of:\",self[count].shape,\"\\n\",self[count], \n",
        "          \"\\nand Matrix dimension of:\",self[count+1].shape,\"\\n\",self[count+1],\n",
        "          \"\\nare not compatible.\")\n",
        "\n",
        "  return\n",
        "\n",
        "a = np.array([[1,2],\n",
        "              [3,4]])\n",
        "\n",
        "b = np.array([[3,6,1],\n",
        "              [8,2,1]])\n",
        "\n",
        "c = np.array([[4,7,3],\n",
        "              [5,2,3],\n",
        "              [1,1,1]])\n",
        "\n",
        "d = [a,b,c]\n",
        "multiply_matrices(d)"
      ],
      "execution_count": 0,
      "outputs": [
        {
          "output_type": "stream",
          "text": [
            "[[129 156  90]\n",
            " [301 346 208]]\n"
          ],
          "name": "stdout"
        }
      ]
    }
  ]
}