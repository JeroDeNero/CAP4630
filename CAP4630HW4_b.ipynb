{
  "nbformat": 4,
  "nbformat_minor": 0,
  "metadata": {
    "colab": {
      "name": "CAP4630HW4.b",
      "provenance": [],
      "authorship_tag": "ABX9TyNgI7bgM9hbqAq8hYtyvZgz",
      "include_colab_link": true
    },
    "kernelspec": {
      "name": "python3",
      "display_name": "Python 3"
    },
    "accelerator": "GPU"
  },
  "cells": [
    {
      "cell_type": "markdown",
      "metadata": {
        "id": "view-in-github",
        "colab_type": "text"
      },
      "source": [
        "<a href=\"https://colab.research.google.com/github/JeroDeNero/CAP4630/blob/master/CAP4630HW4_b.ipynb\" target=\"_parent\"><img src=\"https://colab.research.google.com/assets/colab-badge.svg\" alt=\"Open In Colab\"/></a>"
      ]
    },
    {
      "cell_type": "markdown",
      "metadata": {
        "id": "sUQWuFmdCGZ7",
        "colab_type": "text"
      },
      "source": [
        "#Problem 3.b"
      ]
    },
    {
      "cell_type": "code",
      "metadata": {
        "id": "kuc3-AJZB5D1",
        "colab_type": "code",
        "colab": {
          "base_uri": "https://localhost:8080/",
          "height": 204
        },
        "outputId": "454a32e5-ff62-4cc3-9ab2-888a2e4b0886"
      },
      "source": [
        "!wget --no-check-certificate\\\n",
        "  https://storage.googleapis.com/mledu-datasets/cats_and_dogs_filtered.zip\\\n",
        "  -O /tmp/cats_and_dogs_filtered.zip"
      ],
      "execution_count": 1,
      "outputs": [
        {
          "output_type": "stream",
          "text": [
            "--2020-04-20 19:26:47--  https://storage.googleapis.com/mledu-datasets/cats_and_dogs_filtered.zip\n",
            "Resolving storage.googleapis.com (storage.googleapis.com)... 108.177.119.128, 2a00:1450:4013:c00::80\n",
            "Connecting to storage.googleapis.com (storage.googleapis.com)|108.177.119.128|:443... connected.\n",
            "HTTP request sent, awaiting response... 200 OK\n",
            "Length: 68606236 (65M) [application/zip]\n",
            "Saving to: ‘/tmp/cats_and_dogs_filtered.zip’\n",
            "\n",
            "/tmp/cats_and_dogs_ 100%[===================>]  65.43M   109MB/s    in 0.6s    \n",
            "\n",
            "2020-04-20 19:26:48 (109 MB/s) - ‘/tmp/cats_and_dogs_filtered.zip’ saved [68606236/68606236]\n",
            "\n"
          ],
          "name": "stdout"
        }
      ]
    },
    {
      "cell_type": "code",
      "metadata": {
        "id": "YGgzLUBcCM7H",
        "colab_type": "code",
        "colab": {}
      },
      "source": [
        "import os\n",
        "import zipfile\n",
        "\n",
        "local_zip = '/tmp/cats_and_dogs_filtered.zip'\n",
        "zip_ref = zipfile.ZipFile(local_zip, 'r')\n",
        "zip_ref.extractall('/tmp')\n",
        "zip_ref.close()\n",
        "\n",
        "base_dir = '/tmp/cats_and_dogs_filtered'\n",
        "train_dir = os.path.join(base_dir, 'train')\n",
        "validation_dir = os.path.join(base_dir, 'validation')\n",
        "\n",
        "#Directory with training cat pictures\n",
        "train_cats_dir = os.path.join(train_dir, 'cats')\n",
        "\n",
        "#Directory with training dog pictures\n",
        "train_dogs_dir = os.path.join(train_dir, 'dogs')\n",
        "\n",
        "#Directory with validation cat pictures\n",
        "validation_cats_dir = os.path.join(validation_dir, 'cats')\n",
        "\n",
        "#Directory with validation dog pictures\n",
        "validation_dogs_dir = os.path.join(validation_dir, 'dogs')"
      ],
      "execution_count": 0,
      "outputs": []
    },
    {
      "cell_type": "markdown",
      "metadata": {
        "id": "RYecdmI1CQ5f",
        "colab_type": "text"
      },
      "source": [
        "Convolutional Base"
      ]
    },
    {
      "cell_type": "code",
      "metadata": {
        "id": "6kDY1JD9CTlv",
        "colab_type": "code",
        "colab": {
          "base_uri": "https://localhost:8080/",
          "height": 68
        },
        "outputId": "25fe5059-e182-462a-c6d6-8cfd88f5468a"
      },
      "source": [
        "from keras.applications import Xception\n",
        "\n",
        "conv_base = Xception(\n",
        "    weights = 'imagenet',\n",
        "    include_top = False,\n",
        "    input_shape = (150, 150, 3))\n",
        "\n",
        "#Freezing the convolutional base\n",
        "conv_base.trainable = False"
      ],
      "execution_count": 3,
      "outputs": [
        {
          "output_type": "stream",
          "text": [
            "Using TensorFlow backend.\n"
          ],
          "name": "stderr"
        },
        {
          "output_type": "stream",
          "text": [
            "Downloading data from https://github.com/fchollet/deep-learning-models/releases/download/v0.4/xception_weights_tf_dim_ordering_tf_kernels_notop.h5\n",
            "83689472/83683744 [==============================] - 3s 0us/step\n"
          ],
          "name": "stdout"
        }
      ]
    },
    {
      "cell_type": "markdown",
      "metadata": {
        "id": "d__o1RVuCV7X",
        "colab_type": "text"
      },
      "source": [
        "Concatenation of the convolutional base and densely connected layers"
      ]
    },
    {
      "cell_type": "code",
      "metadata": {
        "id": "eb8m-556CZ7A",
        "colab_type": "code",
        "colab": {
          "base_uri": "https://localhost:8080/",
          "height": 357
        },
        "outputId": "e8fdb3a3-986e-4e3e-a510-807633fe0720"
      },
      "source": [
        "from keras import layers\n",
        "from keras import models\n",
        "from keras import optimizers\n",
        "\n",
        "model = models.Sequential()\n",
        "model.add(conv_base)\n",
        "model.add(layers.Flatten())\n",
        "model.add(layers.Dense(512, activation = 'relu'))\n",
        "model.add(layers.Dense(8, activation = 'relu'))\n",
        "model.add(layers.Dropout(0.5))\n",
        "model.add(layers.Dense(1, activation = 'sigmoid'))\n",
        "\n",
        "model.summary()"
      ],
      "execution_count": 9,
      "outputs": [
        {
          "output_type": "stream",
          "text": [
            "Model: \"sequential_3\"\n",
            "_________________________________________________________________\n",
            "Layer (type)                 Output Shape              Param #   \n",
            "=================================================================\n",
            "xception (Model)             (None, 5, 5, 2048)        20861480  \n",
            "_________________________________________________________________\n",
            "flatten_3 (Flatten)          (None, 51200)             0         \n",
            "_________________________________________________________________\n",
            "dense_7 (Dense)              (None, 512)               26214912  \n",
            "_________________________________________________________________\n",
            "dense_8 (Dense)              (None, 8)                 4104      \n",
            "_________________________________________________________________\n",
            "dropout_3 (Dropout)          (None, 8)                 0         \n",
            "_________________________________________________________________\n",
            "dense_9 (Dense)              (None, 1)                 9         \n",
            "=================================================================\n",
            "Total params: 47,080,505\n",
            "Trainable params: 26,219,025\n",
            "Non-trainable params: 20,861,480\n",
            "_________________________________________________________________\n"
          ],
          "name": "stdout"
        }
      ]
    },
    {
      "cell_type": "markdown",
      "metadata": {
        "id": "IB43rnAJDCfI",
        "colab_type": "text"
      },
      "source": [
        "Train model end to end with frozen convolutional base"
      ]
    },
    {
      "cell_type": "code",
      "metadata": {
        "id": "6XeDZQDQDA34",
        "colab_type": "code",
        "colab": {
          "base_uri": "https://localhost:8080/",
          "height": 1000
        },
        "outputId": "3aeaf88a-48b4-406e-906d-d2f77741dfd1"
      },
      "source": [
        "from keras.preprocessing.image import ImageDataGenerator\n",
        "from keras import optimizers\n",
        "\n",
        "#Data augmentation\n",
        "train_datagen = ImageDataGenerator(\n",
        "    rescale = 1./255,\n",
        "    rotation_range = 40,\n",
        "    width_shift_range = 0.2,\n",
        "    height_shift_range = 0.2,\n",
        "    shear_range = 0.2,\n",
        "    zoom_range = 0.2,\n",
        "    horizontal_flip = True,\n",
        "    fill_mode = 'nearest'\n",
        ")\n",
        "\n",
        "train_generator = train_datagen.flow_from_directory(\n",
        "    train_dir,\n",
        "    target_size=(150, 150),\n",
        "    batch_size=20,\n",
        "    class_mode='binary')\n",
        "\n",
        "validation_datagen = ImageDataGenerator(rescale=1./255)\n",
        "\n",
        "validation_generator = validation_datagen.flow_from_directory(\n",
        "    validation_dir,\n",
        "    target_size=(150, 150),\n",
        "    batch_size=20,\n",
        "    class_mode='binary')\n",
        "\n",
        "#Compiling the model\n",
        "\n",
        "model.compile(\n",
        "    loss='binary_crossentropy', \n",
        "    optimizer=optimizers.RMSprop(lr=2e-5), \n",
        "    metrics=['acc'])\n",
        "\n",
        "#Training the model\n",
        "history = model.fit_generator(\n",
        "    train_generator,\n",
        "    steps_per_epoch=100,\n",
        "    epochs=30,\n",
        "    validation_data=validation_generator,\n",
        "    validation_steps=50\n",
        ")"
      ],
      "execution_count": 5,
      "outputs": [
        {
          "output_type": "stream",
          "text": [
            "Found 2000 images belonging to 2 classes.\n",
            "Found 1000 images belonging to 2 classes.\n",
            "Epoch 1/30\n",
            "100/100 [==============================] - 29s 293ms/step - loss: 0.5624 - acc: 0.6920 - val_loss: 0.1592 - val_acc: 0.9240\n",
            "Epoch 2/30\n",
            "100/100 [==============================] - 19s 190ms/step - loss: 0.5026 - acc: 0.7490 - val_loss: 0.3806 - val_acc: 0.9190\n",
            "Epoch 3/30\n",
            "100/100 [==============================] - 19s 192ms/step - loss: 0.4607 - acc: 0.7720 - val_loss: 0.0641 - val_acc: 0.9610\n",
            "Epoch 4/30\n",
            "100/100 [==============================] - 19s 192ms/step - loss: 0.4386 - acc: 0.7845 - val_loss: 0.2846 - val_acc: 0.9100\n",
            "Epoch 5/30\n",
            "100/100 [==============================] - 19s 193ms/step - loss: 0.4287 - acc: 0.7900 - val_loss: 7.7976e-04 - val_acc: 0.9580\n",
            "Epoch 6/30\n",
            "100/100 [==============================] - 19s 193ms/step - loss: 0.4127 - acc: 0.8010 - val_loss: 0.1683 - val_acc: 0.9490\n",
            "Epoch 7/30\n",
            "100/100 [==============================] - 19s 193ms/step - loss: 0.3998 - acc: 0.8055 - val_loss: 3.5573e-04 - val_acc: 0.9670\n",
            "Epoch 8/30\n",
            "100/100 [==============================] - 19s 191ms/step - loss: 0.4235 - acc: 0.7880 - val_loss: 1.2349 - val_acc: 0.9580\n",
            "Epoch 9/30\n",
            "100/100 [==============================] - 19s 191ms/step - loss: 0.4382 - acc: 0.8030 - val_loss: 0.0019 - val_acc: 0.9690\n",
            "Epoch 10/30\n",
            "100/100 [==============================] - 19s 192ms/step - loss: 0.4139 - acc: 0.7965 - val_loss: 0.0290 - val_acc: 0.9710\n",
            "Epoch 11/30\n",
            "100/100 [==============================] - 19s 191ms/step - loss: 0.4019 - acc: 0.8080 - val_loss: 5.8123e-05 - val_acc: 0.9720\n",
            "Epoch 12/30\n",
            "100/100 [==============================] - 19s 192ms/step - loss: 0.4425 - acc: 0.7985 - val_loss: 3.6603e-04 - val_acc: 0.9570\n",
            "Epoch 13/30\n",
            "100/100 [==============================] - 19s 191ms/step - loss: 0.4152 - acc: 0.7960 - val_loss: 0.1112 - val_acc: 0.9470\n",
            "Epoch 14/30\n",
            "100/100 [==============================] - 19s 191ms/step - loss: 0.4028 - acc: 0.8175 - val_loss: 0.0015 - val_acc: 0.9630\n",
            "Epoch 15/30\n",
            "100/100 [==============================] - 19s 193ms/step - loss: 0.3806 - acc: 0.8220 - val_loss: 9.7228e-04 - val_acc: 0.9690\n",
            "Epoch 16/30\n",
            "100/100 [==============================] - 19s 193ms/step - loss: 0.3854 - acc: 0.8300 - val_loss: 2.0900 - val_acc: 0.9690\n",
            "Epoch 17/30\n",
            "100/100 [==============================] - 19s 193ms/step - loss: 0.3757 - acc: 0.8300 - val_loss: 6.5887e-04 - val_acc: 0.9670\n",
            "Epoch 18/30\n",
            "100/100 [==============================] - 19s 191ms/step - loss: 0.4020 - acc: 0.8110 - val_loss: 1.1408 - val_acc: 0.9500\n",
            "Epoch 19/30\n",
            "100/100 [==============================] - 19s 193ms/step - loss: 0.3999 - acc: 0.8190 - val_loss: 0.0085 - val_acc: 0.9430\n",
            "Epoch 20/30\n",
            "100/100 [==============================] - 19s 194ms/step - loss: 0.4146 - acc: 0.8130 - val_loss: 0.5385 - val_acc: 0.9690\n",
            "Epoch 21/30\n",
            "100/100 [==============================] - 19s 194ms/step - loss: 0.4340 - acc: 0.8170 - val_loss: 7.3111e-07 - val_acc: 0.9690\n",
            "Epoch 22/30\n",
            "100/100 [==============================] - 19s 194ms/step - loss: 0.4244 - acc: 0.8150 - val_loss: 9.1473e-08 - val_acc: 0.9710\n",
            "Epoch 23/30\n",
            "100/100 [==============================] - 19s 195ms/step - loss: 0.4032 - acc: 0.8030 - val_loss: 0.5772 - val_acc: 0.9730\n",
            "Epoch 24/30\n",
            "100/100 [==============================] - 19s 195ms/step - loss: 0.4095 - acc: 0.8135 - val_loss: 3.5397e-04 - val_acc: 0.9660\n",
            "Epoch 25/30\n",
            "100/100 [==============================] - 19s 194ms/step - loss: 0.4042 - acc: 0.8110 - val_loss: 1.4382 - val_acc: 0.9690\n",
            "Epoch 26/30\n",
            "100/100 [==============================] - 19s 194ms/step - loss: 0.4074 - acc: 0.8020 - val_loss: 0.0013 - val_acc: 0.9550\n",
            "Epoch 27/30\n",
            "100/100 [==============================] - 19s 191ms/step - loss: 0.4107 - acc: 0.8095 - val_loss: 1.0424 - val_acc: 0.9540\n",
            "Epoch 28/30\n",
            "100/100 [==============================] - 19s 194ms/step - loss: 0.3793 - acc: 0.8145 - val_loss: 0.0022 - val_acc: 0.9650\n",
            "Epoch 29/30\n",
            "100/100 [==============================] - 19s 194ms/step - loss: 0.3830 - acc: 0.8225 - val_loss: 1.4215e-07 - val_acc: 0.9720\n",
            "Epoch 30/30\n",
            "100/100 [==============================] - 19s 192ms/step - loss: 0.3945 - acc: 0.8195 - val_loss: 1.2354 - val_acc: 0.9580\n"
          ],
          "name": "stdout"
        }
      ]
    },
    {
      "cell_type": "markdown",
      "metadata": {
        "id": "LIA2ipkyDILn",
        "colab_type": "text"
      },
      "source": [
        "Display the curves of loss and accuracy during training"
      ]
    },
    {
      "cell_type": "code",
      "metadata": {
        "id": "-chGcWZ8DLaP",
        "colab_type": "code",
        "colab": {
          "base_uri": "https://localhost:8080/",
          "height": 545
        },
        "outputId": "36fc6c06-8752-431d-b3eb-20d8af1d317b"
      },
      "source": [
        "%matplotlib inline\n",
        "import matplotlib.pyplot as plt\n",
        "\n",
        "acc = history.history['acc']\n",
        "val_acc = history.history['val_acc']\n",
        "\n",
        "loss = history.history['loss']\n",
        "val_loss = history.history['val_loss']\n",
        "\n",
        "epochs = range(1, len(acc) + 1)\n",
        "\n",
        "#Training and Validation accuracy\n",
        "plt.plot(epochs, acc, 'bo', label='training acc')\n",
        "plt.plot(epochs, val_acc, 'b', label='validation acc')\n",
        "plt.title('training and validation accuracy')\n",
        "plt.legend()\n",
        "plt.figure()\n",
        "\n",
        "#Training and Validation loss\n",
        "plt.plot(epochs, loss, 'bo', label='training loss')\n",
        "plt.plot(epochs, val_loss, 'b', label='validation loss')\n",
        "plt.title('training and validation loss')\n",
        "plt.legend()\n",
        "plt.show()"
      ],
      "execution_count": 6,
      "outputs": [
        {
          "output_type": "display_data",
          "data": {
            "image/png": "[encoded data removed]",
            "text/plain": [
              "<Figure size 432x288 with 1 Axes>"
            ]
          },
          "metadata": {
            "tags": [],
            "needs_background": "light"
          }
        },
        {
          "output_type": "display_data",
          "data": {
            "image/png": "[encoded data removed]",
            "text/plain": [
              "<Figure size 432x288 with 1 Axes>"
            ]
          },
          "metadata": {
            "tags": [],
            "needs_background": "light"
          }
        }
      ]
    },
    {
      "cell_type": "markdown",
      "metadata": {
        "id": "fbfYG8GzDP4_",
        "colab_type": "text"
      },
      "source": [
        "Fine-tuning"
      ]
    },
    {
      "cell_type": "code",
      "metadata": {
        "id": "xgDNLzmiDRVv",
        "colab_type": "code",
        "colab": {
          "base_uri": "https://localhost:8080/",
          "height": 1000
        },
        "outputId": "a2c029b5-18a7-4ae1-9a80-9f3ec4603b29"
      },
      "source": [
        "conv_base.trainable = True\n",
        "\n",
        "set_trainable = False\n",
        "for layer in conv_base.layers:\n",
        "  if layer.name == 'dense_2':\n",
        "    set_trainable = True\n",
        "  if set_trainable:\n",
        "    layer.trainable = True\n",
        "  else:\n",
        "    layer.trainable = False\n",
        "\n",
        "#Compiling the model\n",
        "model.compile(\n",
        "              loss = 'binary_crossentropy',\n",
        "              optimizer = optimizers.RMSprop(lr = 1e-10),\n",
        "              metrics = ['acc'])\n",
        "\n",
        "#Training the model\n",
        "history = model.fit_generator(\n",
        "    train_generator,\n",
        "    steps_per_epoch = 100,\n",
        "    epochs = 100,\n",
        "    validation_data = validation_generator,\n",
        "    validation_steps = 50\n",
        ")"
      ],
      "execution_count": 10,
      "outputs": [
        {
          "output_type": "stream",
          "text": [
            "Epoch 1/100\n",
            "100/100 [==============================] - 23s 228ms/step - loss: 0.7692 - acc: 0.4845 - val_loss: 0.7981 - val_acc: 0.4780\n",
            "Epoch 2/100\n",
            "100/100 [==============================] - 19s 195ms/step - loss: 0.7579 - acc: 0.4940 - val_loss: 0.7431 - val_acc: 0.4780\n",
            "Epoch 3/100\n",
            "100/100 [==============================] - 19s 191ms/step - loss: 0.7469 - acc: 0.4960 - val_loss: 0.7031 - val_acc: 0.4780\n",
            "Epoch 4/100\n",
            "100/100 [==============================] - 19s 193ms/step - loss: 0.7597 - acc: 0.4915 - val_loss: 0.7039 - val_acc: 0.4780\n",
            "Epoch 5/100\n",
            "100/100 [==============================] - 19s 193ms/step - loss: 0.7453 - acc: 0.4965 - val_loss: 0.8169 - val_acc: 0.4780\n",
            "Epoch 6/100\n",
            "100/100 [==============================] - 19s 195ms/step - loss: 0.7614 - acc: 0.4920 - val_loss: 0.6512 - val_acc: 0.4780\n",
            "Epoch 7/100\n",
            "100/100 [==============================] - 19s 194ms/step - loss: 0.7480 - acc: 0.5120 - val_loss: 0.6460 - val_acc: 0.4780\n",
            "Epoch 8/100\n",
            "100/100 [==============================] - 19s 194ms/step - loss: 0.7620 - acc: 0.4915 - val_loss: 0.6747 - val_acc: 0.4780\n",
            "Epoch 9/100\n",
            "100/100 [==============================] - 19s 194ms/step - loss: 0.7593 - acc: 0.4885 - val_loss: 0.7685 - val_acc: 0.4780\n",
            "Epoch 10/100\n",
            "100/100 [==============================] - 19s 195ms/step - loss: 0.7560 - acc: 0.4965 - val_loss: 0.7535 - val_acc: 0.4780\n",
            "Epoch 11/100\n",
            "100/100 [==============================] - 20s 196ms/step - loss: 0.7510 - acc: 0.4940 - val_loss: 0.7400 - val_acc: 0.4780\n",
            "Epoch 12/100\n",
            "100/100 [==============================] - 19s 194ms/step - loss: 0.7497 - acc: 0.4970 - val_loss: 0.6965 - val_acc: 0.4780\n",
            "Epoch 13/100\n",
            "100/100 [==============================] - 20s 200ms/step - loss: 0.7643 - acc: 0.4880 - val_loss: 0.7110 - val_acc: 0.4780\n",
            "Epoch 14/100\n",
            "100/100 [==============================] - 20s 202ms/step - loss: 0.7682 - acc: 0.4825 - val_loss: 0.7051 - val_acc: 0.4780\n",
            "Epoch 15/100\n",
            "100/100 [==============================] - 20s 199ms/step - loss: 0.7405 - acc: 0.5095 - val_loss: 0.7739 - val_acc: 0.4780\n",
            "Epoch 16/100\n",
            "100/100 [==============================] - 20s 196ms/step - loss: 0.7519 - acc: 0.5065 - val_loss: 0.7019 - val_acc: 0.4780\n",
            "Epoch 17/100\n",
            "100/100 [==============================] - 20s 197ms/step - loss: 0.7617 - acc: 0.4900 - val_loss: 0.6948 - val_acc: 0.4780\n",
            "Epoch 18/100\n",
            "100/100 [==============================] - 20s 198ms/step - loss: 0.7483 - acc: 0.5070 - val_loss: 0.6484 - val_acc: 0.4780\n",
            "Epoch 19/100\n",
            "100/100 [==============================] - 20s 199ms/step - loss: 0.7619 - acc: 0.4860 - val_loss: 0.6337 - val_acc: 0.4780\n",
            "Epoch 20/100\n",
            "100/100 [==============================] - 20s 199ms/step - loss: 0.7565 - acc: 0.4855 - val_loss: 0.6965 - val_acc: 0.4780\n",
            "Epoch 21/100\n",
            "100/100 [==============================] - 20s 197ms/step - loss: 0.7325 - acc: 0.5085 - val_loss: 0.7379 - val_acc: 0.4780\n",
            "Epoch 22/100\n",
            "100/100 [==============================] - 20s 198ms/step - loss: 0.7546 - acc: 0.5045 - val_loss: 0.7534 - val_acc: 0.4780\n",
            "Epoch 23/100\n",
            "100/100 [==============================] - 20s 196ms/step - loss: 0.7453 - acc: 0.5020 - val_loss: 0.7372 - val_acc: 0.4780\n",
            "Epoch 24/100\n",
            "100/100 [==============================] - 20s 196ms/step - loss: 0.7499 - acc: 0.4930 - val_loss: 0.6564 - val_acc: 0.4780\n",
            "Epoch 25/100\n",
            "100/100 [==============================] - 19s 194ms/step - loss: 0.7576 - acc: 0.4825 - val_loss: 0.7423 - val_acc: 0.4780\n",
            "Epoch 26/100\n",
            "100/100 [==============================] - 19s 194ms/step - loss: 0.7402 - acc: 0.5170 - val_loss: 0.7553 - val_acc: 0.4780\n",
            "Epoch 27/100\n",
            "100/100 [==============================] - 19s 194ms/step - loss: 0.7507 - acc: 0.5040 - val_loss: 0.7052 - val_acc: 0.4780\n",
            "Epoch 28/100\n",
            "100/100 [==============================] - 19s 192ms/step - loss: 0.7576 - acc: 0.4780 - val_loss: 0.7315 - val_acc: 0.4780\n",
            "Epoch 29/100\n",
            "100/100 [==============================] - 19s 192ms/step - loss: 0.7528 - acc: 0.4985 - val_loss: 0.8112 - val_acc: 0.4780\n",
            "Epoch 30/100\n",
            "100/100 [==============================] - 19s 191ms/step - loss: 0.7482 - acc: 0.4935 - val_loss: 0.7096 - val_acc: 0.4780\n",
            "Epoch 31/100\n",
            "100/100 [==============================] - 19s 191ms/step - loss: 0.7435 - acc: 0.4990 - val_loss: 0.7082 - val_acc: 0.4780\n",
            "Epoch 32/100\n",
            "100/100 [==============================] - 19s 190ms/step - loss: 0.7616 - acc: 0.4935 - val_loss: 0.7891 - val_acc: 0.4790\n",
            "Epoch 33/100\n",
            "100/100 [==============================] - 19s 188ms/step - loss: 0.7489 - acc: 0.5190 - val_loss: 0.7521 - val_acc: 0.4790\n",
            "Epoch 34/100\n",
            "100/100 [==============================] - 18s 185ms/step - loss: 0.7419 - acc: 0.4960 - val_loss: 0.7054 - val_acc: 0.4790\n",
            "Epoch 35/100\n",
            "100/100 [==============================] - 19s 188ms/step - loss: 0.7515 - acc: 0.5110 - val_loss: 0.6974 - val_acc: 0.4790\n",
            "Epoch 36/100\n",
            "100/100 [==============================] - 19s 185ms/step - loss: 0.7532 - acc: 0.5010 - val_loss: 0.7171 - val_acc: 0.4790\n",
            "Epoch 37/100\n",
            "100/100 [==============================] - 18s 184ms/step - loss: 0.7487 - acc: 0.4925 - val_loss: 0.7196 - val_acc: 0.4790\n",
            "Epoch 38/100\n",
            "100/100 [==============================] - 18s 184ms/step - loss: 0.7373 - acc: 0.5085 - val_loss: 0.7408 - val_acc: 0.4800\n",
            "Epoch 39/100\n",
            "100/100 [==============================] - 18s 183ms/step - loss: 0.7691 - acc: 0.4900 - val_loss: 0.7802 - val_acc: 0.4800\n",
            "Epoch 40/100\n",
            "100/100 [==============================] - 18s 181ms/step - loss: 0.7467 - acc: 0.5135 - val_loss: 0.6526 - val_acc: 0.4800\n",
            "Epoch 41/100\n",
            "100/100 [==============================] - 18s 179ms/step - loss: 0.7393 - acc: 0.5030 - val_loss: 0.8009 - val_acc: 0.4800\n",
            "Epoch 42/100\n",
            "100/100 [==============================] - 18s 179ms/step - loss: 0.7540 - acc: 0.4935 - val_loss: 0.7575 - val_acc: 0.4800\n",
            "Epoch 43/100\n",
            "100/100 [==============================] - 18s 178ms/step - loss: 0.7441 - acc: 0.5190 - val_loss: 0.7304 - val_acc: 0.4800\n",
            "Epoch 44/100\n",
            "100/100 [==============================] - 18s 179ms/step - loss: 0.7598 - acc: 0.4810 - val_loss: 0.7547 - val_acc: 0.4800\n",
            "Epoch 45/100\n",
            "100/100 [==============================] - 18s 178ms/step - loss: 0.7662 - acc: 0.4880 - val_loss: 0.7630 - val_acc: 0.4800\n",
            "Epoch 46/100\n",
            "100/100 [==============================] - 18s 179ms/step - loss: 0.7679 - acc: 0.4825 - val_loss: 0.7878 - val_acc: 0.4800\n",
            "Epoch 47/100\n",
            "100/100 [==============================] - 18s 178ms/step - loss: 0.7460 - acc: 0.5025 - val_loss: 0.6415 - val_acc: 0.4800\n",
            "Epoch 48/100\n",
            "100/100 [==============================] - 18s 178ms/step - loss: 0.7488 - acc: 0.5130 - val_loss: 0.8270 - val_acc: 0.4800\n",
            "Epoch 49/100\n",
            "100/100 [==============================] - 18s 180ms/step - loss: 0.7559 - acc: 0.5035 - val_loss: 0.6262 - val_acc: 0.4800\n",
            "Epoch 50/100\n",
            "100/100 [==============================] - 18s 178ms/step - loss: 0.7458 - acc: 0.5025 - val_loss: 0.6773 - val_acc: 0.4800\n",
            "Epoch 51/100\n",
            "100/100 [==============================] - 18s 177ms/step - loss: 0.7624 - acc: 0.4900 - val_loss: 0.6981 - val_acc: 0.4800\n",
            "Epoch 52/100\n",
            "100/100 [==============================] - 18s 177ms/step - loss: 0.7562 - acc: 0.5000 - val_loss: 0.7153 - val_acc: 0.4800\n",
            "Epoch 53/100\n",
            "100/100 [==============================] - 18s 179ms/step - loss: 0.7518 - acc: 0.5000 - val_loss: 0.6697 - val_acc: 0.4800\n",
            "Epoch 54/100\n",
            "100/100 [==============================] - 18s 177ms/step - loss: 0.7476 - acc: 0.5115 - val_loss: 0.6709 - val_acc: 0.4800\n",
            "Epoch 55/100\n",
            "100/100 [==============================] - 18s 178ms/step - loss: 0.7563 - acc: 0.4985 - val_loss: 0.7394 - val_acc: 0.4800\n",
            "Epoch 56/100\n",
            "100/100 [==============================] - 18s 177ms/step - loss: 0.7418 - acc: 0.5085 - val_loss: 0.8508 - val_acc: 0.4800\n",
            "Epoch 57/100\n",
            "100/100 [==============================] - 18s 177ms/step - loss: 0.7517 - acc: 0.4770 - val_loss: 0.6955 - val_acc: 0.4800\n",
            "Epoch 58/100\n",
            "100/100 [==============================] - 18s 176ms/step - loss: 0.7532 - acc: 0.4930 - val_loss: 0.7230 - val_acc: 0.4800\n",
            "Epoch 59/100\n",
            "100/100 [==============================] - 18s 176ms/step - loss: 0.7519 - acc: 0.5065 - val_loss: 0.6914 - val_acc: 0.4800\n",
            "Epoch 60/100\n",
            "100/100 [==============================] - 18s 176ms/step - loss: 0.7529 - acc: 0.4975 - val_loss: 0.7471 - val_acc: 0.4800\n",
            "Epoch 61/100\n",
            "100/100 [==============================] - 18s 176ms/step - loss: 0.7602 - acc: 0.4890 - val_loss: 0.7607 - val_acc: 0.4800\n",
            "Epoch 62/100\n",
            "100/100 [==============================] - 17s 175ms/step - loss: 0.7677 - acc: 0.4800 - val_loss: 0.7514 - val_acc: 0.4800\n",
            "Epoch 63/100\n",
            "100/100 [==============================] - 17s 175ms/step - loss: 0.7402 - acc: 0.5075 - val_loss: 0.7057 - val_acc: 0.4800\n",
            "Epoch 64/100\n",
            "100/100 [==============================] - 18s 175ms/step - loss: 0.7400 - acc: 0.5030 - val_loss: 0.6977 - val_acc: 0.4800\n",
            "Epoch 65/100\n",
            "100/100 [==============================] - 17s 175ms/step - loss: 0.7520 - acc: 0.4905 - val_loss: 0.7403 - val_acc: 0.4790\n",
            "Epoch 66/100\n",
            "100/100 [==============================] - 18s 175ms/step - loss: 0.7570 - acc: 0.4870 - val_loss: 0.6992 - val_acc: 0.4780\n",
            "Epoch 67/100\n",
            "100/100 [==============================] - 18s 178ms/step - loss: 0.7478 - acc: 0.4925 - val_loss: 0.6964 - val_acc: 0.4780\n",
            "Epoch 68/100\n",
            "100/100 [==============================] - 17s 175ms/step - loss: 0.7436 - acc: 0.5020 - val_loss: 0.7512 - val_acc: 0.4780\n",
            "Epoch 69/100\n",
            "100/100 [==============================] - 17s 175ms/step - loss: 0.7566 - acc: 0.5150 - val_loss: 0.6878 - val_acc: 0.4780\n",
            "Epoch 70/100\n",
            "100/100 [==============================] - 18s 175ms/step - loss: 0.7621 - acc: 0.4795 - val_loss: 0.6938 - val_acc: 0.4780\n",
            "Epoch 71/100\n",
            "100/100 [==============================] - 18s 175ms/step - loss: 0.7537 - acc: 0.5000 - val_loss: 0.7275 - val_acc: 0.4780\n",
            "Epoch 72/100\n",
            "100/100 [==============================] - 18s 175ms/step - loss: 0.7478 - acc: 0.5075 - val_loss: 0.7511 - val_acc: 0.4780\n",
            "Epoch 73/100\n",
            "100/100 [==============================] - 18s 176ms/step - loss: 0.7712 - acc: 0.4740 - val_loss: 0.7035 - val_acc: 0.4780\n",
            "Epoch 74/100\n",
            "100/100 [==============================] - 17s 175ms/step - loss: 0.7550 - acc: 0.5010 - val_loss: 0.6780 - val_acc: 0.4780\n",
            "Epoch 75/100\n",
            "100/100 [==============================] - 17s 175ms/step - loss: 0.7598 - acc: 0.4860 - val_loss: 0.7581 - val_acc: 0.4780\n",
            "Epoch 76/100\n",
            "100/100 [==============================] - 18s 175ms/step - loss: 0.7600 - acc: 0.4890 - val_loss: 0.7299 - val_acc: 0.4780\n",
            "Epoch 77/100\n",
            "100/100 [==============================] - 18s 175ms/step - loss: 0.7553 - acc: 0.4980 - val_loss: 0.7055 - val_acc: 0.4780\n",
            "Epoch 78/100\n",
            "100/100 [==============================] - 18s 176ms/step - loss: 0.7541 - acc: 0.5000 - val_loss: 0.6840 - val_acc: 0.4780\n",
            "Epoch 79/100\n",
            "100/100 [==============================] - 18s 175ms/step - loss: 0.7639 - acc: 0.4845 - val_loss: 0.7003 - val_acc: 0.4780\n",
            "Epoch 80/100\n",
            "100/100 [==============================] - 18s 175ms/step - loss: 0.7562 - acc: 0.4970 - val_loss: 0.7310 - val_acc: 0.4780\n",
            "Epoch 81/100\n",
            "100/100 [==============================] - 18s 175ms/step - loss: 0.7698 - acc: 0.4885 - val_loss: 0.6828 - val_acc: 0.4780\n",
            "Epoch 82/100\n",
            "100/100 [==============================] - 17s 175ms/step - loss: 0.7563 - acc: 0.4935 - val_loss: 0.7031 - val_acc: 0.4780\n",
            "Epoch 83/100\n",
            "100/100 [==============================] - 17s 174ms/step - loss: 0.7567 - acc: 0.4970 - val_loss: 0.7061 - val_acc: 0.4780\n",
            "Epoch 84/100\n",
            "100/100 [==============================] - 17s 174ms/step - loss: 0.7428 - acc: 0.5170 - val_loss: 0.7743 - val_acc: 0.4780\n",
            "Epoch 85/100\n",
            "100/100 [==============================] - 18s 177ms/step - loss: 0.7530 - acc: 0.4900 - val_loss: 0.7106 - val_acc: 0.4780\n",
            "Epoch 86/100\n",
            "100/100 [==============================] - 17s 174ms/step - loss: 0.7447 - acc: 0.4930 - val_loss: 0.7619 - val_acc: 0.4780\n",
            "Epoch 87/100\n",
            "100/100 [==============================] - 17s 175ms/step - loss: 0.7669 - acc: 0.4920 - val_loss: 0.7024 - val_acc: 0.4780\n",
            "Epoch 88/100\n",
            "100/100 [==============================] - 18s 175ms/step - loss: 0.7673 - acc: 0.4805 - val_loss: 0.6988 - val_acc: 0.4780\n",
            "Epoch 89/100\n",
            "100/100 [==============================] - 17s 174ms/step - loss: 0.7548 - acc: 0.4880 - val_loss: 0.7497 - val_acc: 0.4780\n",
            "Epoch 90/100\n",
            "100/100 [==============================] - 18s 177ms/step - loss: 0.7529 - acc: 0.4910 - val_loss: 0.8365 - val_acc: 0.4780\n",
            "Epoch 91/100\n",
            "100/100 [==============================] - 17s 174ms/step - loss: 0.7554 - acc: 0.4750 - val_loss: 0.6978 - val_acc: 0.4780\n",
            "Epoch 92/100\n",
            "100/100 [==============================] - 17s 174ms/step - loss: 0.7560 - acc: 0.4965 - val_loss: 0.7727 - val_acc: 0.4780\n",
            "Epoch 93/100\n",
            "100/100 [==============================] - 18s 175ms/step - loss: 0.7576 - acc: 0.4845 - val_loss: 0.6593 - val_acc: 0.4780\n",
            "Epoch 94/100\n",
            "100/100 [==============================] - 18s 176ms/step - loss: 0.7495 - acc: 0.4950 - val_loss: 0.6921 - val_acc: 0.4780\n",
            "Epoch 95/100\n",
            "100/100 [==============================] - 17s 175ms/step - loss: 0.7433 - acc: 0.5090 - val_loss: 0.7298 - val_acc: 0.4780\n",
            "Epoch 96/100\n",
            "100/100 [==============================] - 17s 175ms/step - loss: 0.7589 - acc: 0.4945 - val_loss: 0.6563 - val_acc: 0.4780\n",
            "Epoch 97/100\n",
            "100/100 [==============================] - 17s 174ms/step - loss: 0.7470 - acc: 0.5035 - val_loss: 0.8486 - val_acc: 0.4780\n",
            "Epoch 98/100\n",
            "100/100 [==============================] - 17s 174ms/step - loss: 0.7581 - acc: 0.4910 - val_loss: 0.7433 - val_acc: 0.4780\n",
            "Epoch 99/100\n",
            "100/100 [==============================] - 18s 176ms/step - loss: 0.7495 - acc: 0.4920 - val_loss: 0.6992 - val_acc: 0.4780\n",
            "Epoch 100/100\n",
            "100/100 [==============================] - 17s 175ms/step - loss: 0.7474 - acc: 0.5025 - val_loss: 0.6778 - val_acc: 0.4780\n"
          ],
          "name": "stdout"
        }
      ]
    },
    {
      "cell_type": "markdown",
      "metadata": {
        "id": "AVlnyoUIDU83",
        "colab_type": "text"
      },
      "source": [
        "Display learning curves during fine-tuning"
      ]
    },
    {
      "cell_type": "code",
      "metadata": {
        "id": "hNvkRJEBDYFP",
        "colab_type": "code",
        "colab": {
          "base_uri": "https://localhost:8080/",
          "height": 545
        },
        "outputId": "b6ae433e-0c79-4df0-d673-656d3e1bb0bc"
      },
      "source": [
        "%matplotlib inline\n",
        "import matplotlib.pyplot as plt\n",
        "\n",
        "acc = history.history['acc']\n",
        "val_acc = history.history['val_acc']\n",
        "\n",
        "loss = history.history['loss']\n",
        "val_loss = history.history['val_loss']\n",
        "\n",
        "epochs = range(1, len(acc) + 1)\n",
        "\n",
        "# training and validation accuracy\n",
        "plt.plot(epochs, acc, 'bo', label='training acc')\n",
        "plt.plot(epochs, val_acc, 'b', label='validation acc')\n",
        "plt.title('training and validation accuracy')\n",
        "plt.legend()\n",
        "plt.figure()\n",
        "\n",
        "# training and validation loss\n",
        "plt.plot(epochs, loss, 'bo', label='training loss')\n",
        "plt.plot(epochs, val_loss, 'b', label='validation loss')\n",
        "plt.title('training and validation loss')\n",
        "plt.legend()\n",
        "plt.show()"
      ],
      "execution_count": 11,
      "outputs": [
        {
          "output_type": "display_data",
          "data": {
            "image/png": "[encoded data removed]",
            "text/plain": [
              "<Figure size 432x288 with 1 Axes>"
            ]
          },
          "metadata": {
            "tags": [],
            "needs_background": "light"
          }
        },
        {
          "output_type": "display_data",
          "data": {
            "image/png": "[encoded data removed]",
            "text/plain": [
              "<Figure size 432x288 with 1 Axes>"
            ]
          },
          "metadata": {
            "tags": [],
            "needs_background": "light"
          }
        }
      ]
    },
    {
      "cell_type": "markdown",
      "metadata": {
        "id": "GRkPxALeDcbv",
        "colab_type": "text"
      },
      "source": [
        "Print out accuracy and validation loss"
      ]
    },
    {
      "cell_type": "code",
      "metadata": {
        "id": "HL9jORhmDa4Q",
        "colab_type": "code",
        "colab": {
          "base_uri": "https://localhost:8080/",
          "height": 51
        },
        "outputId": "dd2f8b2d-5d78-4bdf-bd01-fee4ba50de73"
      },
      "source": [
        "val_loss, val_acc = model.evaluate_generator(validation_generator, steps = 50)\n",
        "print(\"validation Loss: \", val_loss)\n",
        "print(\"Validation Accuracy: \", val_acc)"
      ],
      "execution_count": 12,
      "outputs": [
        {
          "output_type": "stream",
          "text": [
            "validation Loss:  0.6777926683425903\n",
            "Validation Accuracy:  0.4779999852180481\n"
          ],
          "name": "stdout"
        }
      ]
    }
  ]
}